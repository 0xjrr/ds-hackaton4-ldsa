{
 "cells": [
  {
   "cell_type": "code",
   "execution_count": 59,
   "metadata": {},
   "outputs": [],
   "source": [
    "import os\n",
    "import re\n",
    "import spacy\n",
    "import hashlib\n",
    "import numpy as np\n",
    "import pandas as pd\n",
    "\n",
    "from tqdm import tqdm\n",
    "from collections import Counter\n",
    "from spacy.matcher import Matcher\n",
    "from sklearn.metrics import accuracy_score\n",
    "from nltk.tokenize import WordPunctTokenizer\n",
    "from sklearn.preprocessing import StandardScaler\n",
    "from sklearn.ensemble import RandomForestClassifier\n",
    "from sklearn.pipeline import Pipeline, FeatureUnion\n",
    "from sklearn.model_selection import train_test_split\n",
    "from sklearn.base import BaseEstimator, TransformerMixin\n",
    "from sklearn.feature_extraction.text import TfidfVectorizer"
   ]
  },
  {
   "cell_type": "code",
   "execution_count": 60,
   "metadata": {},
   "outputs": [
    {
     "data": {
      "text/html": [
       "<div>\n",
       "<style scoped>\n",
       "    .dataframe tbody tr th:only-of-type {\n",
       "        vertical-align: middle;\n",
       "    }\n",
       "\n",
       "    .dataframe tbody tr th {\n",
       "        vertical-align: top;\n",
       "    }\n",
       "\n",
       "    .dataframe thead th {\n",
       "        text-align: right;\n",
       "    }\n",
       "</style>\n",
       "<table border=\"1\" class=\"dataframe\">\n",
       "  <thead>\n",
       "    <tr style=\"text-align: right;\">\n",
       "      <th></th>\n",
       "      <th>text</th>\n",
       "      <th>date</th>\n",
       "      <th>category</th>\n",
       "      <th>language</th>\n",
       "      <th>class</th>\n",
       "    </tr>\n",
       "  </thead>\n",
       "  <tbody>\n",
       "    <tr>\n",
       "      <th>0</th>\n",
       "      <td>Hello, Does it matter iff I use Visa or Master...</td>\n",
       "      <td>7-6-2022</td>\n",
       "      <td>visa_or_mastercard</td>\n",
       "      <td>en</td>\n",
       "      <td>card</td>\n",
       "    </tr>\n",
       "    <tr>\n",
       "      <th>1</th>\n",
       "      <td>Good afternoon, I just got refunded for my pur...</td>\n",
       "      <td>16-11-2022</td>\n",
       "      <td>reverted_card_payment?</td>\n",
       "      <td>en</td>\n",
       "      <td>card</td>\n",
       "    </tr>\n",
       "    <tr>\n",
       "      <th>2</th>\n",
       "      <td>Hello, I got billed ann extra pound! Thanks</td>\n",
       "      <td>4-12-2022</td>\n",
       "      <td>extra_charge_on_statement</td>\n",
       "      <td>en</td>\n",
       "      <td>others</td>\n",
       "    </tr>\n",
       "    <tr>\n",
       "      <th>3</th>\n",
       "      <td>Hi, How long does it take for a transfer to sh...</td>\n",
       "      <td>23-11-2022</td>\n",
       "      <td>transfer_timing</td>\n",
       "      <td>en</td>\n",
       "      <td>transfer</td>\n",
       "    </tr>\n",
       "    <tr>\n",
       "      <th>4</th>\n",
       "      <td>hi, When can I use money sent to my accountt? ...</td>\n",
       "      <td>17-4-2022</td>\n",
       "      <td>transfer_timing</td>\n",
       "      <td>en</td>\n",
       "      <td>transfer</td>\n",
       "    </tr>\n",
       "  </tbody>\n",
       "</table>\n",
       "</div>"
      ],
      "text/plain": [
       "                                                text        date  \\\n",
       "0  Hello, Does it matter iff I use Visa or Master...    7-6-2022   \n",
       "1  Good afternoon, I just got refunded for my pur...  16-11-2022   \n",
       "2        Hello, I got billed ann extra pound! Thanks   4-12-2022   \n",
       "3  Hi, How long does it take for a transfer to sh...  23-11-2022   \n",
       "4  hi, When can I use money sent to my accountt? ...   17-4-2022   \n",
       "\n",
       "                    category language     class  \n",
       "0         visa_or_mastercard       en      card  \n",
       "1     reverted_card_payment?       en      card  \n",
       "2  extra_charge_on_statement       en    others  \n",
       "3            transfer_timing       en  transfer  \n",
       "4            transfer_timing       en  transfer  "
      ]
     },
     "execution_count": 60,
     "metadata": {},
     "output_type": "execute_result"
    }
   ],
   "source": [
    "df_dataset = pd.read_csv(\"data\\dataset_mapped.csv\", index_col=0)\n",
    "df_dataset.head()"
   ]
  },
  {
   "cell_type": "code",
   "execution_count": 61,
   "metadata": {},
   "outputs": [
    {
     "data": {
      "text/plain": [
       "text        object\n",
       "date        object\n",
       "category    object\n",
       "language    object\n",
       "class       object\n",
       "dtype: object"
      ]
     },
     "execution_count": 61,
     "metadata": {},
     "output_type": "execute_result"
    }
   ],
   "source": [
    "df_dataset.dtypes"
   ]
  },
  {
   "cell_type": "code",
   "execution_count": 62,
   "metadata": {},
   "outputs": [
    {
     "data": {
      "text/html": [
       "<div>\n",
       "<style scoped>\n",
       "    .dataframe tbody tr th:only-of-type {\n",
       "        vertical-align: middle;\n",
       "    }\n",
       "\n",
       "    .dataframe tbody tr th {\n",
       "        vertical-align: top;\n",
       "    }\n",
       "\n",
       "    .dataframe thead th {\n",
       "        text-align: right;\n",
       "    }\n",
       "</style>\n",
       "<table border=\"1\" class=\"dataframe\">\n",
       "  <thead>\n",
       "    <tr style=\"text-align: right;\">\n",
       "      <th></th>\n",
       "      <th>text</th>\n",
       "      <th>date</th>\n",
       "      <th>category</th>\n",
       "      <th>language</th>\n",
       "      <th>class</th>\n",
       "    </tr>\n",
       "  </thead>\n",
       "  <tbody>\n",
       "    <tr>\n",
       "      <th>0</th>\n",
       "      <td>Hello, Does it matter iff I use Visa or Master...</td>\n",
       "      <td>7-6-2022</td>\n",
       "      <td>visa_or_mastercard</td>\n",
       "      <td>en</td>\n",
       "      <td>card</td>\n",
       "    </tr>\n",
       "    <tr>\n",
       "      <th>1</th>\n",
       "      <td>Good afternoon, I just got refunded for my pur...</td>\n",
       "      <td>16-11-2022</td>\n",
       "      <td>reverted_card_payment?</td>\n",
       "      <td>en</td>\n",
       "      <td>card</td>\n",
       "    </tr>\n",
       "    <tr>\n",
       "      <th>2</th>\n",
       "      <td>Hello, I got billed ann extra pound! Thanks</td>\n",
       "      <td>4-12-2022</td>\n",
       "      <td>extra_charge_on_statement</td>\n",
       "      <td>en</td>\n",
       "      <td>others</td>\n",
       "    </tr>\n",
       "    <tr>\n",
       "      <th>3</th>\n",
       "      <td>Hi, How long does it take for a transfer to sh...</td>\n",
       "      <td>23-11-2022</td>\n",
       "      <td>transfer_timing</td>\n",
       "      <td>en</td>\n",
       "      <td>transfer</td>\n",
       "    </tr>\n",
       "    <tr>\n",
       "      <th>4</th>\n",
       "      <td>hi, When can I use money sent to my accountt? ...</td>\n",
       "      <td>17-4-2022</td>\n",
       "      <td>transfer_timing</td>\n",
       "      <td>en</td>\n",
       "      <td>transfer</td>\n",
       "    </tr>\n",
       "  </tbody>\n",
       "</table>\n",
       "</div>"
      ],
      "text/plain": [
       "                                                text        date  \\\n",
       "0  Hello, Does it matter iff I use Visa or Master...    7-6-2022   \n",
       "1  Good afternoon, I just got refunded for my pur...  16-11-2022   \n",
       "2        Hello, I got billed ann extra pound! Thanks   4-12-2022   \n",
       "3  Hi, How long does it take for a transfer to sh...  23-11-2022   \n",
       "4  hi, When can I use money sent to my accountt? ...   17-4-2022   \n",
       "\n",
       "                    category language     class  \n",
       "0         visa_or_mastercard       en      card  \n",
       "1     reverted_card_payment?       en      card  \n",
       "2  extra_charge_on_statement       en    others  \n",
       "3            transfer_timing       en  transfer  \n",
       "4            transfer_timing       en  transfer  "
      ]
     },
     "execution_count": 62,
     "metadata": {},
     "output_type": "execute_result"
    }
   ],
   "source": [
    "df_dataset = df_dataset.loc[df_dataset['language'] == 'en']\n",
    "df_dataset.head()\n",
    "\n",
    "#df.drop(df.loc[df['line_race']==0].index, inplace=True)"
   ]
  },
  {
   "cell_type": "code",
   "execution_count": 63,
   "metadata": {},
   "outputs": [],
   "source": [
    "df_dataset[\"text\"] = df_dataset[\"text\"].astype(str)\n",
    "#df_dataset[\"category\"] = df_dataset[\"category\"].astype(str)\n",
    "#df_dataset[\"language\"] = df_dataset[\"language\"].astype(str)\n",
    "df_dataset[\"class\"] = df_dataset[\"class\"].astype(str)"
   ]
  },
  {
   "cell_type": "code",
   "execution_count": 64,
   "metadata": {},
   "outputs": [
    {
     "data": {
      "text/plain": [
       "text        object\n",
       "date        object\n",
       "category    object\n",
       "language    object\n",
       "class       object\n",
       "dtype: object"
      ]
     },
     "execution_count": 64,
     "metadata": {},
     "output_type": "execute_result"
    }
   ],
   "source": [
    "df_dataset.dtypes"
   ]
  },
  {
   "cell_type": "code",
   "execution_count": 65,
   "metadata": {},
   "outputs": [
    {
     "data": {
      "text/html": [
       "<div>\n",
       "<style scoped>\n",
       "    .dataframe tbody tr th:only-of-type {\n",
       "        vertical-align: middle;\n",
       "    }\n",
       "\n",
       "    .dataframe tbody tr th {\n",
       "        vertical-align: top;\n",
       "    }\n",
       "\n",
       "    .dataframe thead th {\n",
       "        text-align: right;\n",
       "    }\n",
       "</style>\n",
       "<table border=\"1\" class=\"dataframe\">\n",
       "  <thead>\n",
       "    <tr style=\"text-align: right;\">\n",
       "      <th></th>\n",
       "      <th>text</th>\n",
       "      <th>class</th>\n",
       "    </tr>\n",
       "  </thead>\n",
       "  <tbody>\n",
       "    <tr>\n",
       "      <th>0</th>\n",
       "      <td>Hello, Does it matter iff I use Visa or Master...</td>\n",
       "      <td>card</td>\n",
       "    </tr>\n",
       "    <tr>\n",
       "      <th>1</th>\n",
       "      <td>Good afternoon, I just got refunded for my pur...</td>\n",
       "      <td>card</td>\n",
       "    </tr>\n",
       "    <tr>\n",
       "      <th>2</th>\n",
       "      <td>Hello, I got billed ann extra pound! Thanks</td>\n",
       "      <td>others</td>\n",
       "    </tr>\n",
       "    <tr>\n",
       "      <th>3</th>\n",
       "      <td>Hi, How long does it take for a transfer to sh...</td>\n",
       "      <td>transfer</td>\n",
       "    </tr>\n",
       "    <tr>\n",
       "      <th>4</th>\n",
       "      <td>hi, When can I use money sent to my accountt? ...</td>\n",
       "      <td>transfer</td>\n",
       "    </tr>\n",
       "  </tbody>\n",
       "</table>\n",
       "</div>"
      ],
      "text/plain": [
       "                                                text     class\n",
       "0  Hello, Does it matter iff I use Visa or Master...      card\n",
       "1  Good afternoon, I just got refunded for my pur...      card\n",
       "2        Hello, I got billed ann extra pound! Thanks    others\n",
       "3  Hi, How long does it take for a transfer to sh...  transfer\n",
       "4  hi, When can I use money sent to my accountt? ...  transfer"
      ]
     },
     "execution_count": 65,
     "metadata": {},
     "output_type": "execute_result"
    }
   ],
   "source": [
    "df_dataset.drop(columns=[\"category\", \"language\", \"date\"], inplace=True)\n",
    "df_dataset.head()"
   ]
  },
  {
   "cell_type": "code",
   "execution_count": 66,
   "metadata": {},
   "outputs": [],
   "source": [
    "\n",
    "def remove_punctuation(text):\n",
    "    \"\"\"\n",
    "    Hint: Remember the good old RegEx from 2 LUs ago\n",
    "        how can I just remove everything except words, digits and spaces?\n",
    "    \"\"\"\n",
    "    \n",
    "    text = re.sub(r'[^\\w\\s]+', '', text)\n",
    "\n",
    "    return text.lower()\n",
    "\n"
   ]
  },
  {
   "cell_type": "code",
   "execution_count": 69,
   "metadata": {},
   "outputs": [],
   "source": [
    "def preprocess_text(df):\n",
    "    \n",
    "    df_processed = df.copy()\n",
    "    df_processed[\"text\"] = df_processed[\"text\"].apply(lambda x: remove_punctuation(x))\n",
    "    return df_processed\n",
    "df_processed = preprocess_text(df_dataset)\n"
   ]
  },
  {
   "cell_type": "code",
   "execution_count": 70,
   "metadata": {},
   "outputs": [
    {
     "data": {
      "text/html": [
       "<div>\n",
       "<style scoped>\n",
       "    .dataframe tbody tr th:only-of-type {\n",
       "        vertical-align: middle;\n",
       "    }\n",
       "\n",
       "    .dataframe tbody tr th {\n",
       "        vertical-align: top;\n",
       "    }\n",
       "\n",
       "    .dataframe thead th {\n",
       "        text-align: right;\n",
       "    }\n",
       "</style>\n",
       "<table border=\"1\" class=\"dataframe\">\n",
       "  <thead>\n",
       "    <tr style=\"text-align: right;\">\n",
       "      <th></th>\n",
       "      <th>text</th>\n",
       "      <th>class</th>\n",
       "    </tr>\n",
       "  </thead>\n",
       "  <tbody>\n",
       "    <tr>\n",
       "      <th>0</th>\n",
       "      <td>hello does it matter iff i use visa or masterc...</td>\n",
       "      <td>card</td>\n",
       "    </tr>\n",
       "    <tr>\n",
       "      <th>1</th>\n",
       "      <td>good afternoon i just got refunded for my purc...</td>\n",
       "      <td>card</td>\n",
       "    </tr>\n",
       "    <tr>\n",
       "      <th>2</th>\n",
       "      <td>hello i got billed ann extra pound thanks</td>\n",
       "      <td>others</td>\n",
       "    </tr>\n",
       "    <tr>\n",
       "      <th>3</th>\n",
       "      <td>hi how long does it take for a transfer to sho...</td>\n",
       "      <td>transfer</td>\n",
       "    </tr>\n",
       "    <tr>\n",
       "      <th>4</th>\n",
       "      <td>hi when can i use money sent to my accountt be...</td>\n",
       "      <td>transfer</td>\n",
       "    </tr>\n",
       "  </tbody>\n",
       "</table>\n",
       "</div>"
      ],
      "text/plain": [
       "                                                text     class\n",
       "0  hello does it matter iff i use visa or masterc...      card\n",
       "1  good afternoon i just got refunded for my purc...      card\n",
       "2          hello i got billed ann extra pound thanks    others\n",
       "3  hi how long does it take for a transfer to sho...  transfer\n",
       "4  hi when can i use money sent to my accountt be...  transfer"
      ]
     },
     "execution_count": 70,
     "metadata": {},
     "output_type": "execute_result"
    }
   ],
   "source": [
    "df_processed.head()"
   ]
  }
 ],
 "metadata": {
  "kernelspec": {
   "display_name": "s04",
   "language": "python",
   "name": "python3"
  },
  "language_info": {
   "codemirror_mode": {
    "name": "ipython",
    "version": 3
   },
   "file_extension": ".py",
   "mimetype": "text/x-python",
   "name": "python",
   "nbconvert_exporter": "python",
   "pygments_lexer": "ipython3",
   "version": "3.8.16"
  },
  "orig_nbformat": 4,
  "vscode": {
   "interpreter": {
    "hash": "ee4ecc0352fe942d9474eaa253050e53ef7fb28071c65995df3135d7c2e440f7"
   }
  }
 },
 "nbformat": 4,
 "nbformat_minor": 2
}
